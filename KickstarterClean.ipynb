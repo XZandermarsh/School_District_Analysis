{
 "cells": [
  {
   "cell_type": "code",
   "execution_count": 105,
   "metadata": {
    "collapsed": true
   },
   "outputs": [],
   "source": [
    "import pandas as pd"
   ]
  },
  {
   "cell_type": "code",
   "execution_count": 106,
   "metadata": {
    "collapsed": true
   },
   "outputs": [],
   "source": [
    "# The path to our CSV file\n",
    "data_to_read = 'KickstarterData.csv'\n",
    "# Read our Kickstarter data into pandas\n",
    "ks_data_df = pd.read_csv(data_to_read)"
   ]
  },
  {
   "cell_type": "code",
   "execution_count": 107,
   "metadata": {
    "collapsed": true
   },
   "outputs": [],
   "source": [
    "# Get a list of all of our columns for easy reference\n",
    "ks_columns = ks_data_df.columns"
   ]
  },
  {
   "cell_type": "code",
   "execution_count": 108,
   "metadata": {
    "collapsed": true,
    "scrolled": true
   },
   "outputs": [],
   "source": [
    "# Extract \"name\", \"goal\", \"pledged\", \"state\", \"country\", \"staff_pick\",\n",
    "# \"backers_count\", and \"spotlight\"\n",
    "ks_extract_df = ks_data_df[[\"name\", \"goal\", \"pledged\", \"state\", \"country\", \"staff_pick\",\"backers_count\", \"spotlight\"]]"
   ]
  },
  {
   "cell_type": "code",
   "execution_count": 109,
   "metadata": {
    "collapsed": true,
    "scrolled": true
   },
   "outputs": [
    {
     "output_type": "execute_result",
     "data": {
      "text/plain": "                                                   name       goal    pledged  \\\n0     The Class Act Players Theatre Company Presents...  $1,500.00  $2,925.00   \n1     MR INCREDIBLE by Camilla Whitehill - VAULT Fes...  $2,500.00  $2,936.00   \n2                                                   RUN  $1,000.00  $1,200.00   \n3     9th International Meeting of Youth Theatre sap...  $2,000.00  $2,135.00   \n4                           Get Conti to the Ed Fringe!  $1,000.00  $1,250.00   \n...                                                 ...        ...        ...   \n4115            Bring Love&#39;s Labour&#39;s Lost to Minnesota $25,000.00 $25,388.00   \n4116                                              Score    $300.00    $340.00   \n4117  &quot;The Santaland Diaries&quot; by David Sedaris in Lo...  $6,000.00  $7,140.00   \n4118    REBATEnsemble Presents: ICONS - The Martin Show    $300.00    $312.00   \n4119                                    Licensed To Ill  $3,000.00  $3,084.00   \n\n           state country  staff_pick  backers_count  spotlight  \n0     successful      US       False             17       True  \n1     successful      GB        True             15       True  \n2     successful      GB       False             30       True  \n3     successful      IT       False             24       True  \n4     successful      GB       False             28       True  \n...          ...     ...         ...            ...        ...  \n4115  successful      US        True            213       True  \n4116  successful      GB       False             17       True  \n4117  successful      US       False            108       True  \n4118  successful      US       False              6       True  \n4119  successful      GB       False             78       True  \n\n[3307 rows x 8 columns]",
      "text/html": "<div>\n<style scoped>\n    .dataframe tbody tr th:only-of-type {\n        vertical-align: middle;\n    }\n\n    .dataframe tbody tr th {\n        vertical-align: top;\n    }\n\n    .dataframe thead th {\n        text-align: right;\n    }\n</style>\n<table border=\"1\" class=\"dataframe\">\n  <thead>\n    <tr style=\"text-align: right;\">\n      <th></th>\n      <th>name</th>\n      <th>goal</th>\n      <th>pledged</th>\n      <th>state</th>\n      <th>country</th>\n      <th>staff_pick</th>\n      <th>backers_count</th>\n      <th>spotlight</th>\n    </tr>\n  </thead>\n  <tbody>\n    <tr>\n      <th>0</th>\n      <td>The Class Act Players Theatre Company Presents...</td>\n      <td>$1,500.00</td>\n      <td>$2,925.00</td>\n      <td>successful</td>\n      <td>US</td>\n      <td>False</td>\n      <td>17</td>\n      <td>True</td>\n    </tr>\n    <tr>\n      <th>1</th>\n      <td>MR INCREDIBLE by Camilla Whitehill - VAULT Fes...</td>\n      <td>$2,500.00</td>\n      <td>$2,936.00</td>\n      <td>successful</td>\n      <td>GB</td>\n      <td>True</td>\n      <td>15</td>\n      <td>True</td>\n    </tr>\n    <tr>\n      <th>2</th>\n      <td>RUN</td>\n      <td>$1,000.00</td>\n      <td>$1,200.00</td>\n      <td>successful</td>\n      <td>GB</td>\n      <td>False</td>\n      <td>30</td>\n      <td>True</td>\n    </tr>\n    <tr>\n      <th>3</th>\n      <td>9th International Meeting of Youth Theatre sap...</td>\n      <td>$2,000.00</td>\n      <td>$2,135.00</td>\n      <td>successful</td>\n      <td>IT</td>\n      <td>False</td>\n      <td>24</td>\n      <td>True</td>\n    </tr>\n    <tr>\n      <th>4</th>\n      <td>Get Conti to the Ed Fringe!</td>\n      <td>$1,000.00</td>\n      <td>$1,250.00</td>\n      <td>successful</td>\n      <td>GB</td>\n      <td>False</td>\n      <td>28</td>\n      <td>True</td>\n    </tr>\n    <tr>\n      <th>...</th>\n      <td>...</td>\n      <td>...</td>\n      <td>...</td>\n      <td>...</td>\n      <td>...</td>\n      <td>...</td>\n      <td>...</td>\n      <td>...</td>\n    </tr>\n    <tr>\n      <th>4115</th>\n      <td>Bring Love's Labour's Lost to Minnesota</td>\n      <td>$25,000.00</td>\n      <td>$25,388.00</td>\n      <td>successful</td>\n      <td>US</td>\n      <td>True</td>\n      <td>213</td>\n      <td>True</td>\n    </tr>\n    <tr>\n      <th>4116</th>\n      <td>Score</td>\n      <td>$300.00</td>\n      <td>$340.00</td>\n      <td>successful</td>\n      <td>GB</td>\n      <td>False</td>\n      <td>17</td>\n      <td>True</td>\n    </tr>\n    <tr>\n      <th>4117</th>\n      <td>\"The Santaland Diaries\" by David Sedaris in Lo...</td>\n      <td>$6,000.00</td>\n      <td>$7,140.00</td>\n      <td>successful</td>\n      <td>US</td>\n      <td>False</td>\n      <td>108</td>\n      <td>True</td>\n    </tr>\n    <tr>\n      <th>4118</th>\n      <td>REBATEnsemble Presents: ICONS - The Martin Show</td>\n      <td>$300.00</td>\n      <td>$312.00</td>\n      <td>successful</td>\n      <td>US</td>\n      <td>False</td>\n      <td>6</td>\n      <td>True</td>\n    </tr>\n    <tr>\n      <th>4119</th>\n      <td>Licensed To Ill</td>\n      <td>$3,000.00</td>\n      <td>$3,084.00</td>\n      <td>successful</td>\n      <td>GB</td>\n      <td>False</td>\n      <td>78</td>\n      <td>True</td>\n    </tr>\n  </tbody>\n</table>\n<p>3307 rows × 8 columns</p>\n</div>"
     },
     "metadata": {},
     "execution_count": 109
    }
   ],
   "source": [
    "# Remove projects that made no money at all\n",
    "ks_extract_df = ks_extract_df[ks_extract_df.pledged != 0]\n",
    "ks_extract_df"
   ]
  },
  {
   "cell_type": "code",
   "execution_count": 110,
   "metadata": {
    "collapsed": true,
    "scrolled": true
   },
   "outputs": [],
   "source": [
    "# Collect only those projects that were hosted in the US\n",
    "ks_extract_df = ks_extract_df[ks_extract_df.country == \"US\"]\n",
    "# Create a list of the columns\n",
    "ks_columns_2 = ks_extract_df.columns\n",
    "# Create a new df for \"US\" with the columns above. "
   ]
  },
  {
   "cell_type": "code",
   "execution_count": 111,
   "metadata": {
    "collapsed": true
   },
   "outputs": [
    {
     "output_type": "execute_result",
     "data": {
      "text/plain": "                                                   name       goal    pledged  \\\n0     The Class Act Players Theatre Company Presents...  $1,500.00  $2,925.00   \n8                               Forefront Festival 2015  $7,200.00  $7,230.00   \n11                                Hamlet the Hip-Hopera  $9,747.00 $10,103.00   \n14                                            Pride Con $15,000.00 $15,110.00   \n15        En Garde Arts Emerging Artists Festival BOSSS $10,000.00 $10,306.00   \n...                                                 ...        ...        ...   \n4109                                    Going To Market  $2,000.00  $2,100.00   \n4110  LIBERTY! EQUALITY! AND FIREWORKS!... A Civil R...  $3,000.00  $3,506.00   \n4115            Bring Love&#39;s Labour&#39;s Lost to Minnesota $25,000.00 $25,388.00   \n4117  &quot;The Santaland Diaries&quot; by David Sedaris in Lo...  $6,000.00  $7,140.00   \n4118    REBATEnsemble Presents: ICONS - The Martin Show    $300.00    $312.00   \n\n           state country  staff_pick  backers_count  spotlight  \\\n0     successful      US       False             17       True   \n8     successful      US       False             68       True   \n11    successful      US        True            132       True   \n14    successful      US       False             60       True   \n15    successful      US        True             80       True   \n...          ...     ...         ...            ...        ...   \n4109  successful      US       False             41       True   \n4110  successful      US       False             35       True   \n4115  successful      US        True            213       True   \n4117  successful      US       False            108       True   \n4118  successful      US       False              6       True   \n\n      Average Pledged  \n0             $172.06  \n8             $106.32  \n11             $76.54  \n14            $251.83  \n15            $128.82  \n...               ...  \n4109           $51.22  \n4110          $100.17  \n4115          $119.19  \n4117           $66.11  \n4118           $52.00  \n\n[2129 rows x 9 columns]",
      "text/html": "<div>\n<style scoped>\n    .dataframe tbody tr th:only-of-type {\n        vertical-align: middle;\n    }\n\n    .dataframe tbody tr th {\n        vertical-align: top;\n    }\n\n    .dataframe thead th {\n        text-align: right;\n    }\n</style>\n<table border=\"1\" class=\"dataframe\">\n  <thead>\n    <tr style=\"text-align: right;\">\n      <th></th>\n      <th>name</th>\n      <th>goal</th>\n      <th>pledged</th>\n      <th>state</th>\n      <th>country</th>\n      <th>staff_pick</th>\n      <th>backers_count</th>\n      <th>spotlight</th>\n      <th>Average Pledged</th>\n    </tr>\n  </thead>\n  <tbody>\n    <tr>\n      <th>0</th>\n      <td>The Class Act Players Theatre Company Presents...</td>\n      <td>$1,500.00</td>\n      <td>$2,925.00</td>\n      <td>successful</td>\n      <td>US</td>\n      <td>False</td>\n      <td>17</td>\n      <td>True</td>\n      <td>$172.06</td>\n    </tr>\n    <tr>\n      <th>8</th>\n      <td>Forefront Festival 2015</td>\n      <td>$7,200.00</td>\n      <td>$7,230.00</td>\n      <td>successful</td>\n      <td>US</td>\n      <td>False</td>\n      <td>68</td>\n      <td>True</td>\n      <td>$106.32</td>\n    </tr>\n    <tr>\n      <th>11</th>\n      <td>Hamlet the Hip-Hopera</td>\n      <td>$9,747.00</td>\n      <td>$10,103.00</td>\n      <td>successful</td>\n      <td>US</td>\n      <td>True</td>\n      <td>132</td>\n      <td>True</td>\n      <td>$76.54</td>\n    </tr>\n    <tr>\n      <th>14</th>\n      <td>Pride Con</td>\n      <td>$15,000.00</td>\n      <td>$15,110.00</td>\n      <td>successful</td>\n      <td>US</td>\n      <td>False</td>\n      <td>60</td>\n      <td>True</td>\n      <td>$251.83</td>\n    </tr>\n    <tr>\n      <th>15</th>\n      <td>En Garde Arts Emerging Artists Festival BOSSS</td>\n      <td>$10,000.00</td>\n      <td>$10,306.00</td>\n      <td>successful</td>\n      <td>US</td>\n      <td>True</td>\n      <td>80</td>\n      <td>True</td>\n      <td>$128.82</td>\n    </tr>\n    <tr>\n      <th>...</th>\n      <td>...</td>\n      <td>...</td>\n      <td>...</td>\n      <td>...</td>\n      <td>...</td>\n      <td>...</td>\n      <td>...</td>\n      <td>...</td>\n      <td>...</td>\n    </tr>\n    <tr>\n      <th>4109</th>\n      <td>Going To Market</td>\n      <td>$2,000.00</td>\n      <td>$2,100.00</td>\n      <td>successful</td>\n      <td>US</td>\n      <td>False</td>\n      <td>41</td>\n      <td>True</td>\n      <td>$51.22</td>\n    </tr>\n    <tr>\n      <th>4110</th>\n      <td>LIBERTY! EQUALITY! AND FIREWORKS!... A Civil R...</td>\n      <td>$3,000.00</td>\n      <td>$3,506.00</td>\n      <td>successful</td>\n      <td>US</td>\n      <td>False</td>\n      <td>35</td>\n      <td>True</td>\n      <td>$100.17</td>\n    </tr>\n    <tr>\n      <th>4115</th>\n      <td>Bring Love's Labour's Lost to Minnesota</td>\n      <td>$25,000.00</td>\n      <td>$25,388.00</td>\n      <td>successful</td>\n      <td>US</td>\n      <td>True</td>\n      <td>213</td>\n      <td>True</td>\n      <td>$119.19</td>\n    </tr>\n    <tr>\n      <th>4117</th>\n      <td>\"The Santaland Diaries\" by David Sedaris in Lo...</td>\n      <td>$6,000.00</td>\n      <td>$7,140.00</td>\n      <td>successful</td>\n      <td>US</td>\n      <td>False</td>\n      <td>108</td>\n      <td>True</td>\n      <td>$66.11</td>\n    </tr>\n    <tr>\n      <th>4118</th>\n      <td>REBATEnsemble Presents: ICONS - The Martin Show</td>\n      <td>$300.00</td>\n      <td>$312.00</td>\n      <td>successful</td>\n      <td>US</td>\n      <td>False</td>\n      <td>6</td>\n      <td>True</td>\n      <td>$52.00</td>\n    </tr>\n  </tbody>\n</table>\n<p>2129 rows × 9 columns</p>\n</div>"
     },
     "metadata": {},
     "execution_count": 111
    }
   ],
   "source": [
    "# Create a new column that finds the average amount pledged to a project\n",
    "ks_extract_df[\"Average Pledged\"] = ks_extract_df.pledged/ks_extract_df.backers_count\n",
    "ks_extract_df"
   ]
  },
  {
   "cell_type": "code",
   "execution_count": 112,
   "metadata": {
    "collapsed": true
   },
   "outputs": [],
   "source": [
    "# First convert \"average_donation\", \"goal\", and \"pledged\" columns to float\n",
    "ks_extract_df[\"Average Pledged\"] = ks_extract_df[\"Average Pledged\"].astype(float)\n",
    "# Then Format to go to two decimal places, include a dollar sign, and use comma notation\n",
    "pd.options.display.float_format = '${:,.2f}'.format"
   ]
  },
  {
   "cell_type": "code",
   "execution_count": 113,
   "metadata": {
    "collapsed": true
   },
   "outputs": [
    {
     "output_type": "execute_result",
     "data": {
      "text/plain": "2129"
     },
     "metadata": {},
     "execution_count": 113
    }
   ],
   "source": [
    "# Calculate the total number of backers for all US projects\n",
    "total_backers = ks_extract_df[\"backers_count\"].count()\n",
    "total_backers"
   ]
  },
  {
   "cell_type": "code",
   "execution_count": 114,
   "metadata": {
    "collapsed": true
   },
   "outputs": [
    {
     "output_type": "execute_result",
     "data": {
      "text/plain": "41.931892907468296"
     },
     "metadata": {},
     "execution_count": 114
    }
   ],
   "source": [
    "# Calculate the average number of backers for all US projects\n",
    "avg_backers = ks_extract_df[\"backers_count\"].mean()\n",
    "avg_backers"
   ]
  },
  {
   "cell_type": "code",
   "execution_count": 115,
   "metadata": {
    "collapsed": true,
    "scrolled": true
   },
   "outputs": [
    {
     "output_type": "execute_result",
     "data": {
      "text/plain": "                                                  name       goal    pledged  \\\n11                               Hamlet the Hip-Hopera  $9,747.00 $10,103.00   \n15       En Garde Arts Emerging Artists Festival BOSSS $10,000.00 $10,306.00   \n39                     &quot;Poor People&quot; at FringeNYC 2015  $5,500.00  $5,682.00   \n44    Queen Mab&#39;s Steampunk and Fairie Street Festival  $1,300.00  $3,363.00   \n45                  RAFT: a new play by Emily Kitchens  $7,500.00  $7,826.00   \n...                                                ...        ...        ...   \n4086            Prison Boxing: A New Play by Leah Joki $12,200.00 $12,571.00   \n4095                           Bluebirds by Joe Brondo  $7,000.00  $7,365.00   \n4100   The Seagull Project Presents: The Three Sisters $20,000.00 $21,573.00   \n4104                  Verdigris - A Play by Jim Beaver $35,000.00 $56,079.83   \n4115           Bring Love&#39;s Labour&#39;s Lost to Minnesota $25,000.00 $25,388.00   \n\n           state country  staff_pick  backers_count  spotlight  \\\n11    successful      US        True            132       True   \n15    successful      US        True             80       True   \n39    successful      US        True             34       True   \n44    successful      US        True             62       True   \n45    successful      US        True            120       True   \n...          ...     ...         ...            ...        ...   \n4086  successful      US        True            134       True   \n4095  successful      US        True             75       True   \n4100  successful      US        True            202       True   \n4104  successful      US        True            930       True   \n4115  successful      US        True            213       True   \n\n      Average Pledged  \n11             $76.54  \n15            $128.82  \n39            $167.12  \n44             $54.24  \n45             $65.22  \n...               ...  \n4086           $93.81  \n4095           $98.20  \n4100          $106.80  \n4104           $60.30  \n4115          $119.19  \n\n[174 rows x 9 columns]",
      "text/html": "<div>\n<style scoped>\n    .dataframe tbody tr th:only-of-type {\n        vertical-align: middle;\n    }\n\n    .dataframe tbody tr th {\n        vertical-align: top;\n    }\n\n    .dataframe thead th {\n        text-align: right;\n    }\n</style>\n<table border=\"1\" class=\"dataframe\">\n  <thead>\n    <tr style=\"text-align: right;\">\n      <th></th>\n      <th>name</th>\n      <th>goal</th>\n      <th>pledged</th>\n      <th>state</th>\n      <th>country</th>\n      <th>staff_pick</th>\n      <th>backers_count</th>\n      <th>spotlight</th>\n      <th>Average Pledged</th>\n    </tr>\n  </thead>\n  <tbody>\n    <tr>\n      <th>11</th>\n      <td>Hamlet the Hip-Hopera</td>\n      <td>$9,747.00</td>\n      <td>$10,103.00</td>\n      <td>successful</td>\n      <td>US</td>\n      <td>True</td>\n      <td>132</td>\n      <td>True</td>\n      <td>$76.54</td>\n    </tr>\n    <tr>\n      <th>15</th>\n      <td>En Garde Arts Emerging Artists Festival BOSSS</td>\n      <td>$10,000.00</td>\n      <td>$10,306.00</td>\n      <td>successful</td>\n      <td>US</td>\n      <td>True</td>\n      <td>80</td>\n      <td>True</td>\n      <td>$128.82</td>\n    </tr>\n    <tr>\n      <th>39</th>\n      <td>\"Poor People\" at FringeNYC 2015</td>\n      <td>$5,500.00</td>\n      <td>$5,682.00</td>\n      <td>successful</td>\n      <td>US</td>\n      <td>True</td>\n      <td>34</td>\n      <td>True</td>\n      <td>$167.12</td>\n    </tr>\n    <tr>\n      <th>44</th>\n      <td>Queen Mab's Steampunk and Fairie Street Festival</td>\n      <td>$1,300.00</td>\n      <td>$3,363.00</td>\n      <td>successful</td>\n      <td>US</td>\n      <td>True</td>\n      <td>62</td>\n      <td>True</td>\n      <td>$54.24</td>\n    </tr>\n    <tr>\n      <th>45</th>\n      <td>RAFT: a new play by Emily Kitchens</td>\n      <td>$7,500.00</td>\n      <td>$7,826.00</td>\n      <td>successful</td>\n      <td>US</td>\n      <td>True</td>\n      <td>120</td>\n      <td>True</td>\n      <td>$65.22</td>\n    </tr>\n    <tr>\n      <th>...</th>\n      <td>...</td>\n      <td>...</td>\n      <td>...</td>\n      <td>...</td>\n      <td>...</td>\n      <td>...</td>\n      <td>...</td>\n      <td>...</td>\n      <td>...</td>\n    </tr>\n    <tr>\n      <th>4086</th>\n      <td>Prison Boxing: A New Play by Leah Joki</td>\n      <td>$12,200.00</td>\n      <td>$12,571.00</td>\n      <td>successful</td>\n      <td>US</td>\n      <td>True</td>\n      <td>134</td>\n      <td>True</td>\n      <td>$93.81</td>\n    </tr>\n    <tr>\n      <th>4095</th>\n      <td>Bluebirds by Joe Brondo</td>\n      <td>$7,000.00</td>\n      <td>$7,365.00</td>\n      <td>successful</td>\n      <td>US</td>\n      <td>True</td>\n      <td>75</td>\n      <td>True</td>\n      <td>$98.20</td>\n    </tr>\n    <tr>\n      <th>4100</th>\n      <td>The Seagull Project Presents: The Three Sisters</td>\n      <td>$20,000.00</td>\n      <td>$21,573.00</td>\n      <td>successful</td>\n      <td>US</td>\n      <td>True</td>\n      <td>202</td>\n      <td>True</td>\n      <td>$106.80</td>\n    </tr>\n    <tr>\n      <th>4104</th>\n      <td>Verdigris - A Play by Jim Beaver</td>\n      <td>$35,000.00</td>\n      <td>$56,079.83</td>\n      <td>successful</td>\n      <td>US</td>\n      <td>True</td>\n      <td>930</td>\n      <td>True</td>\n      <td>$60.30</td>\n    </tr>\n    <tr>\n      <th>4115</th>\n      <td>Bring Love's Labour's Lost to Minnesota</td>\n      <td>$25,000.00</td>\n      <td>$25,388.00</td>\n      <td>successful</td>\n      <td>US</td>\n      <td>True</td>\n      <td>213</td>\n      <td>True</td>\n      <td>$119.19</td>\n    </tr>\n  </tbody>\n</table>\n<p>174 rows × 9 columns</p>\n</div>"
     },
     "metadata": {},
     "execution_count": 115
    }
   ],
   "source": [
    "# Collect only those US campaigns that have been picked as a \"Staff Pick\"\n",
    "ks_extract_df_staff_picks = ks_extract_df[ks_extract_df[\"staff_pick\"] == True]\n",
    "ks_extract_df_staff_picks"
   ]
  },
  {
   "cell_type": "code",
   "execution_count": 117,
   "metadata": {
    "collapsed": true
   },
   "outputs": [
    {
     "output_type": "execute_result",
     "data": {
      "text/plain": "            name  goal  pledged  country  staff_pick  backers_count  \\\nstate                                                                 \ncanceled     216   216      216      216         216            216   \nfailed      1123  1123     1123     1123        1123           1123   \nlive          13    13       13       13          13             13   \nsuccessful   775   775      775      775         775            775   \nsuspended      2     2        2        2           2              2   \n\n            spotlight  Average Pledged  \nstate                                   \ncanceled          216              216  \nfailed           1123             1123  \nlive               13               13  \nsuccessful        775              775  \nsuspended           2                2  ",
      "text/html": "<div>\n<style scoped>\n    .dataframe tbody tr th:only-of-type {\n        vertical-align: middle;\n    }\n\n    .dataframe tbody tr th {\n        vertical-align: top;\n    }\n\n    .dataframe thead th {\n        text-align: right;\n    }\n</style>\n<table border=\"1\" class=\"dataframe\">\n  <thead>\n    <tr style=\"text-align: right;\">\n      <th></th>\n      <th>name</th>\n      <th>goal</th>\n      <th>pledged</th>\n      <th>country</th>\n      <th>staff_pick</th>\n      <th>backers_count</th>\n      <th>spotlight</th>\n      <th>Average Pledged</th>\n    </tr>\n    <tr>\n      <th>state</th>\n      <th></th>\n      <th></th>\n      <th></th>\n      <th></th>\n      <th></th>\n      <th></th>\n      <th></th>\n      <th></th>\n    </tr>\n  </thead>\n  <tbody>\n    <tr>\n      <th>canceled</th>\n      <td>216</td>\n      <td>216</td>\n      <td>216</td>\n      <td>216</td>\n      <td>216</td>\n      <td>216</td>\n      <td>216</td>\n      <td>216</td>\n    </tr>\n    <tr>\n      <th>failed</th>\n      <td>1123</td>\n      <td>1123</td>\n      <td>1123</td>\n      <td>1123</td>\n      <td>1123</td>\n      <td>1123</td>\n      <td>1123</td>\n      <td>1123</td>\n    </tr>\n    <tr>\n      <th>live</th>\n      <td>13</td>\n      <td>13</td>\n      <td>13</td>\n      <td>13</td>\n      <td>13</td>\n      <td>13</td>\n      <td>13</td>\n      <td>13</td>\n    </tr>\n    <tr>\n      <th>successful</th>\n      <td>775</td>\n      <td>775</td>\n      <td>775</td>\n      <td>775</td>\n      <td>775</td>\n      <td>775</td>\n      <td>775</td>\n      <td>775</td>\n    </tr>\n    <tr>\n      <th>suspended</th>\n      <td>2</td>\n      <td>2</td>\n      <td>2</td>\n      <td>2</td>\n      <td>2</td>\n      <td>2</td>\n      <td>2</td>\n      <td>2</td>\n    </tr>\n  </tbody>\n</table>\n</div>"
     },
     "metadata": {},
     "execution_count": 117
    }
   ],
   "source": [
    "# Group by the state of the campaigns and see if staff picks matter (Seems to matter quite a bit)\n",
    "state_groups = ks_extract_df.groupby(\"state\")\n",
    "state_groups.count()"
   ]
  },
  {
   "cell_type": "code",
   "execution_count": 118,
   "metadata": {},
   "outputs": [
    {
     "output_type": "execute_result",
     "data": {
      "text/plain": "            name  goal  pledged  country  staff_pick  backers_count  \\\nstate                                                                 \ncanceled       6     6        6        6           6              6   \nfailed        21    21       21       21          21             21   \nlive           2     2        2        2           2              2   \nsuccessful   145   145      145      145         145            145   \n\n            spotlight  Average Pledged  \nstate                                   \ncanceled            6                6  \nfailed             21               21  \nlive                2                2  \nsuccessful        145              145  ",
      "text/html": "<div>\n<style scoped>\n    .dataframe tbody tr th:only-of-type {\n        vertical-align: middle;\n    }\n\n    .dataframe tbody tr th {\n        vertical-align: top;\n    }\n\n    .dataframe thead th {\n        text-align: right;\n    }\n</style>\n<table border=\"1\" class=\"dataframe\">\n  <thead>\n    <tr style=\"text-align: right;\">\n      <th></th>\n      <th>name</th>\n      <th>goal</th>\n      <th>pledged</th>\n      <th>country</th>\n      <th>staff_pick</th>\n      <th>backers_count</th>\n      <th>spotlight</th>\n      <th>Average Pledged</th>\n    </tr>\n    <tr>\n      <th>state</th>\n      <th></th>\n      <th></th>\n      <th></th>\n      <th></th>\n      <th></th>\n      <th></th>\n      <th></th>\n      <th></th>\n    </tr>\n  </thead>\n  <tbody>\n    <tr>\n      <th>canceled</th>\n      <td>6</td>\n      <td>6</td>\n      <td>6</td>\n      <td>6</td>\n      <td>6</td>\n      <td>6</td>\n      <td>6</td>\n      <td>6</td>\n    </tr>\n    <tr>\n      <th>failed</th>\n      <td>21</td>\n      <td>21</td>\n      <td>21</td>\n      <td>21</td>\n      <td>21</td>\n      <td>21</td>\n      <td>21</td>\n      <td>21</td>\n    </tr>\n    <tr>\n      <th>live</th>\n      <td>2</td>\n      <td>2</td>\n      <td>2</td>\n      <td>2</td>\n      <td>2</td>\n      <td>2</td>\n      <td>2</td>\n      <td>2</td>\n    </tr>\n    <tr>\n      <th>successful</th>\n      <td>145</td>\n      <td>145</td>\n      <td>145</td>\n      <td>145</td>\n      <td>145</td>\n      <td>145</td>\n      <td>145</td>\n      <td>145</td>\n    </tr>\n  </tbody>\n</table>\n</div>"
     },
     "metadata": {},
     "execution_count": 118
    }
   ],
   "source": [
    "state_groups_staff_picks = ks_extract_df_staff_picks.groupby(\"state\")\n",
    "state_groups_staff_picks.count()"
   ]
  }
 ],
 "metadata": {
  "kernelspec": {
   "name": "Python 3.8.5 64-bit",
   "display_name": "Python 3.8.5 64-bit",
   "metadata": {
    "interpreter": {
     "hash": "7d3e77b001075ddcac8b1fc32cd4fe082a742349a50bca0ac0808a40dc3dfc9d"
    }
   }
  },
  "language_info": {
   "codemirror_mode": {
    "name": "ipython",
    "version": 3
   },
   "file_extension": ".py",
   "mimetype": "text/x-python",
   "name": "python",
   "nbconvert_exporter": "python",
   "pygments_lexer": "ipython3",
   "version": "3.8.5-final"
  }
 },
 "nbformat": 4,
 "nbformat_minor": 2
}